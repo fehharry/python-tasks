{
  "cells": [
    {
      "cell_type": "markdown",
      "metadata": {
        "id": "sG0VBeVoVMoM"
      },
      "source": [
        "1. Given two integer numbers, write a Python code to return their product only if the product is equal to or lower than 1000. Otherwise, return their sum."
      ]
    },
    {
      "cell_type": "code",
      "execution_count": 8,
      "metadata": {
        "id": "LIv1hucQVTXN"
      },
      "outputs": [
        {
          "name": "stdout",
          "output_type": "stream",
          "text": [
            "sum is:  210\n"
          ]
        }
      ],
      "source": [
        "a=200\n",
        "b=10\n",
        "c=a*b\n",
        "if c<=1000:\n",
        "    print(\"product is: \",c)\n",
        "else:\n",
        "    print(\"sum is: \",a+b)\n",
        "\n",
        "\n",
        "    "
      ]
    },
    {
      "cell_type": "markdown",
      "metadata": {
        "id": "Y0gTJKQtVYnE"
      },
      "source": [
        "2. Write a Python code to iterate the first 10 numbers, and in each iteration, print the sum of the current and previous number"
      ]
    },
    {
      "cell_type": "code",
      "execution_count": 9,
      "metadata": {
        "id": "qgV531ONVkXk"
      },
      "outputs": [
        {
          "name": "stdout",
          "output_type": "stream",
          "text": [
            "1\n",
            "2\n",
            "3\n",
            "4\n",
            "5\n",
            "6\n",
            "7\n",
            "8\n",
            "9\n",
            "10\n"
          ]
        }
      ],
      "source": [
        "i = 1\n",
        "while i<11:\n",
        "    print(i)\n",
        "    i +=1\n"
      ]
    },
    {
      "cell_type": "markdown",
      "metadata": {
        "id": "GoMZHn8gVoLm"
      },
      "source": [
        "3. Write a code to return True if the list’s first and last numbers are the same. If the numbers are different, return False."
      ]
    },
    {
      "cell_type": "code",
      "execution_count": null,
      "metadata": {
        "id": "f7rhwnS_Wqn4"
      },
      "outputs": [],
      "source": []
    },
    {
      "cell_type": "markdown",
      "metadata": {
        "id": "Y0d2vocIWwAr"
      },
      "source": [
        "4. Write a Python code to check if the given number is palindrome. A palindrome number is a number that is the same after reverse. For example, 545 is the palindrome number."
      ]
    },
    {
      "cell_type": "code",
      "execution_count": null,
      "metadata": {
        "id": "IN444hOXWyYw"
      },
      "outputs": [],
      "source": []
    },
    {
      "cell_type": "markdown",
      "metadata": {
        "id": "QDoEwQceXREg"
      },
      "source": [
        "5. Write a program to create a function show_employee() using the following conditions.\n",
        "\n",
        "* It should accept the employee’s name and salary\n",
        "and display both.\n",
        "* If the salary is missing in the function call then assign default value 9000 to salary"
      ]
    },
    {
      "cell_type": "code",
      "execution_count": null,
      "metadata": {
        "id": "kPJWPIKBX42A"
      },
      "outputs": [],
      "source": []
    },
    {
      "cell_type": "markdown",
      "metadata": {
        "id": "935vjcrUX5bz"
      },
      "source": [
        "6. Below are the two lists. Write a Python program to convert them into a dictionary in a way that item from list1 is the key and item from list2 is the value\n",
        "\n",
        "**keys** = ['Ten', 'Twenty', 'Thirty']\n",
        "\n",
        "**values** = [10, 20, 30]"
      ]
    },
    {
      "cell_type": "code",
      "execution_count": 10,
      "metadata": {
        "id": "8d8gdDatYfII"
      },
      "outputs": [
        {
          "name": "stdout",
          "output_type": "stream",
          "text": [
            "{'ten': 10, 'twenty': 20, 'thirty': 30}\n"
          ]
        }
      ],
      "source": [
        "list1=[\"ten\",\"twenty\",\"thirty\"]\n",
        "list2=[10,20,30]\n",
        "a=dict(zip(list1,list2))\n",
        "print(a)"
      ]
    },
    {
      "cell_type": "markdown",
      "metadata": {
        "id": "5iOpTgm6Yfsh"
      },
      "source": [
        "7. Print the value of key ‘history’ from the below dict\n",
        "\n",
        "sampleDict = {\n",
        "  \n",
        "    \"class\": {\n",
        "        \"student\": {\n",
        "            \"name\": \"Mike\",\n",
        "            \"marks\": {\n",
        "                \"physics\": 70,\n",
        "                \"history\": 80\n",
        "            }\n",
        "        }\n",
        "    }\n",
        "}"
      ]
    },
    {
      "cell_type": "code",
      "execution_count": 11,
      "metadata": {
        "id": "obsnarCwYvHU"
      },
      "outputs": [
        {
          "ename": "SyntaxError",
          "evalue": "invalid syntax (3847951977.py, line 4)",
          "output_type": "error",
          "traceback": [
            "\u001b[1;36m  Cell \u001b[1;32mIn[11], line 4\u001b[1;36m\u001b[0m\n\u001b[1;33m    \"student\":\u001b[0m\n\u001b[1;37m             ^\u001b[0m\n\u001b[1;31mSyntaxError\u001b[0m\u001b[1;31m:\u001b[0m invalid syntax\n"
          ]
        }
      ],
      "source": [
        "sampleDict = {\n",
        "  \n",
        "    \"class\": \n",
        "        \"student\": \n",
        "            \"name\": \"Mike\",\n",
        "            \"marks\": \n",
        "                \"physics\": 70,\n",
        "                \"history\": 80\n",
        "            }\n",
        "\n",
        "   \n",
        "   \n"
      ]
    },
    {
      "cell_type": "markdown",
      "metadata": {
        "id": "6OElkDwlYvib"
      },
      "source": [
        "8. We know how to check if the key exists in a dictionary. Sometimes it is required to check if the given value is present.\n",
        "\n",
        "Write a Python program to check if value 200 exists in the following dictionary.\n",
        "\n",
        "**sample_dict** = {'a': 100, 'b': 200, 'c': 300}"
      ]
    },
    {
      "cell_type": "code",
      "execution_count": null,
      "metadata": {
        "id": "LZ9U_D8HZKDJ"
      },
      "outputs": [],
      "source": [
        "simple_dict={'a':100,'b':200,'c':300}\n",
        "print(200 in simple_dict)\n",
        "print('a' in simple_dict)\n"
      ]
    },
    {
      "cell_type": "markdown",
      "metadata": {
        "id": "_xantuMiZS8j"
      },
      "source": [
        "9. Get the key of a minimum value from the following dictionary\n",
        "\n",
        "sample_dict = {\n",
        "\n",
        "  'Physics': 82,\n",
        "\n",
        "  'Math': 65,\n",
        "\n",
        "  'history': 75\n",
        "\n",
        "}\n",
        "\n",
        "Expected Output : Math"
      ]
    },
    {
      "cell_type": "code",
      "execution_count": null,
      "metadata": {
        "id": "YfJlgFP7abZj"
      },
      "outputs": [],
      "source": [
        "sample_dict = {\n",
        "\n",
        "  'Physics': 82,\n",
        "\n",
        "  'Math': 65,\n",
        "\n",
        "  'history': 75\n",
        "\n",
        "}\n",
        "minimum_value=min(sample_dict.keys(), key=(lambda k: sample_dict[k]))\n",
        "print(\"minimum value: \",sample_dict[minimum_value])"
      ]
    },
    {
      "cell_type": "markdown",
      "metadata": {
        "id": "dH-XkOv5abxY"
      },
      "source": [
        "10. Swap two tuples in Python\n",
        "\n",
        "tuple1 = (11, 22)\n",
        "\n",
        "tuple2 = (99, 88)\n",
        "\n",
        "**Expected Output**:"
      ]
    },
    {
      "cell_type": "code",
      "execution_count": null,
      "metadata": {
        "id": "mWtYghaZbAmB"
      },
      "outputs": [],
      "source": [
        "tuple1 = (11, 22)\n",
        "\n",
        "tuple2 = (99, 88)\n",
        "(tuple1,tuple2)=(tuple2,tuple1)\n",
        "print(tuple1)\n",
        "print(tuple2)"
      ]
    },
    {
      "cell_type": "markdown",
      "metadata": {
        "id": "Ik6DDynebA5K"
      },
      "source": [
        "11. Write a program to copy elements 44 and 55 from the following tuple into a new tuple.\n",
        "\n",
        "**Given**:\n",
        "\n",
        "tuple1 = (11, 22, 33, 44, 55, 66)\n",
        "\n",
        "**Expected output**:\n",
        "\n",
        "tuple2: (44, 55)"
      ]
    },
    {
      "cell_type": "code",
      "execution_count": null,
      "metadata": {
        "id": "Tn_RPptrbaHL"
      },
      "outputs": [],
      "source": []
    },
    {
      "cell_type": "markdown",
      "metadata": {
        "id": "yg415cElba8k"
      },
      "source": [
        "12. Counts the number of occurrences of item 50 from a tuple\n",
        "\n",
        "**Given:**\n",
        "\n",
        "tuple1 = (50, 10, 60, 70, 50)\n",
        "\n",
        "**Expected output:**\n",
        "\n",
        "2"
      ]
    },
    {
      "cell_type": "code",
      "execution_count": null,
      "metadata": {
        "id": "9tzACjxubydm"
      },
      "outputs": [],
      "source": []
    },
    {
      "cell_type": "markdown",
      "metadata": {
        "id": "3QJFTbSAbyxW"
      },
      "source": [
        "13. You have given a Python list. Write a program to find value 20 in the list, and if it is present, replace it with 200. Only update the first occurrence of an item.\n",
        "\n",
        "**Given**:\n",
        "\n",
        "list1 = [5, 10, 15, 20, 25, 50, 20]\n",
        "\n",
        "**Expected output**:\n",
        "\n",
        "[5, 10, 15, 200, 25, 50, 20]"
      ]
    },
    {
      "cell_type": "code",
      "execution_count": null,
      "metadata": {
        "id": "P_VaJhM8cOeX"
      },
      "outputs": [],
      "source": []
    },
    {
      "cell_type": "markdown",
      "metadata": {
        "id": "meBXkcpTcOwI"
      },
      "source": [
        "14. Remove all occurrences of a specific item from a list.\n",
        "Given a Python list, write a program to remove all occurrences of item 20.\n",
        "\n",
        "**Given**:\n",
        "\n",
        "list1 = [5, 20, 15, 20, 25, 50, 20]\n",
        "\n",
        "**Expected output**:\n",
        "\n",
        "[5, 15, 25, 50]"
      ]
    },
    {
      "cell_type": "code",
      "execution_count": null,
      "metadata": {
        "id": "JeYZT49VcP25"
      },
      "outputs": [],
      "source": []
    },
    {
      "cell_type": "markdown",
      "metadata": {
        "id": "dtNffX5Vcg4c"
      },
      "source": [
        "15. Given two Python sets, write a Python program to update the first set with items that exist only in the first set and not in the second set.\n",
        "\n",
        "**Given**:\n",
        "\n",
        "set1 = {10, 20, 30}\n",
        "set2 = {20, 40, 50}\n",
        "\n",
        "**Expected output**:\n",
        "\n",
        "set1 = {10, 30}"
      ]
    },
    {
      "cell_type": "code",
      "execution_count": null,
      "metadata": {
        "id": "K5RqosUFdBHN"
      },
      "outputs": [],
      "source": []
    },
    {
      "cell_type": "markdown",
      "metadata": {
        "id": "_cKgvWiqdBm4"
      },
      "source": [
        "16. Display Fibonacci series up to 10 terms\n",
        "Have you ever wondered about the Fibonacci Sequence? It’s a series of numbers in which the next number is found by adding up the two numbers before it. The first two numbers are 0 and 1.\n",
        "\n",
        "For example, 0, 1, 1, 2, 3, 5, 8, 13, 21. The next number in this series is 13 + 21 = 34.\n",
        "\n",
        "**Expected output**:\n",
        "\n",
        "Fibonacci sequence:\n",
        "0  1  1  2  3  5  8  13  21  34"
      ]
    },
    {
      "cell_type": "code",
      "execution_count": null,
      "metadata": {
        "id": "B4a9Iuctd_t1"
      },
      "outputs": [],
      "source": []
    },
    {
      "cell_type": "markdown",
      "metadata": {
        "id": "-c14xflNeAA5"
      },
      "source": [
        "17. Write a function that takes a nested dictionary of students' scores and returns the student with the highest average score.\n",
        "\n",
        "**Example input**:\n",
        "\n",
        "students = {\n",
        "\n",
        "    \"Alice\": {\"Math\": 85, \"English\": 92, \"Science\": 88},\n",
        "    \"Bob\": {\"Math\": 78, \"English\": 81, \"Science\": 85},\n",
        "    \"Charlie\": {\"Math\": 95, \"English\": 89, \"Science\": 94},\n",
        "}\n",
        "\n",
        "**Expected output**:\n",
        "\n",
        "Output: \"Charlie\"\n"
      ]
    },
    {
      "cell_type": "code",
      "execution_count": null,
      "metadata": {
        "id": "Bb52flV_fptG"
      },
      "outputs": [],
      "source": []
    },
    {
      "cell_type": "markdown",
      "metadata": {
        "id": "CdqSx9ZLfpM6"
      },
      "source": [
        "18. Write a function that takes a string and returns a dictionary with the frequency of each word.\n",
        "\n",
        "**Example**:\n",
        "\n",
        "word_frequency= (\"hello world hello Python world\")\n",
        "\n",
        "**Output**: {\"hello\": 2, \"world\": 2, \"Python\": 1}\n",
        "\n"
      ]
    },
    {
      "cell_type": "code",
      "execution_count": null,
      "metadata": {
        "id": "SIy5j8MFgSzk"
      },
      "outputs": [],
      "source": []
    },
    {
      "cell_type": "markdown",
      "metadata": {
        "id": "dU1sJ1DmgTIf"
      },
      "source": [
        "19. Write a function that finds the second largest number in a list.\n",
        "\n",
        "**Example**:\n",
        "\n",
        "second_largest= [3, 5, 7, 1, 4]\n",
        "\n",
        "**Output**: 5\n"
      ]
    },
    {
      "cell_type": "code",
      "execution_count": null,
      "metadata": {
        "id": "iONmkEYYgsFP"
      },
      "outputs": [],
      "source": []
    },
    {
      "cell_type": "markdown",
      "metadata": {
        "id": "CQrhT8hGgsdm"
      },
      "source": [
        "20. Write a function that sorts a list of strings by their length in ascending order.\n",
        "\n",
        "sort_by_length= [\"Python\", \"is\", \"fun\"]\n",
        "\n",
        "**Output**: [\"is\", \"fun\", \"Python\"]\n"
      ]
    },
    {
      "cell_type": "code",
      "execution_count": null,
      "metadata": {
        "id": "VcS-w_-hg8zV"
      },
      "outputs": [],
      "source": []
    },
    {
      "cell_type": "markdown",
      "metadata": {
        "id": "DUNQdfn3g9GT"
      },
      "source": [
        "**Bonus 1**:\n",
        "You are tasked with creating a program that tracks students’ grades and calculates their final scores and grades. The program should perform the following:\n",
        "\n",
        "**Input Student Data**:\n",
        "\n",
        "Create a function to take input for multiple students, where each student has:\n",
        "\n",
        "Name (string)\n",
        "\n",
        "ID (integer)\n",
        "\n",
        "Grades in 3 subjects (a list of floats)\n",
        "\n",
        "**Calculate Final Score**:\n",
        "\n",
        "Create a function that calculates the final score for each student. The final score is the average of their grades in the 3 subjects.\n",
        "\n",
        "**Assign Grades**:\n",
        "\n",
        "Create another function that assigns a grade based on the final score:\n",
        "\n",
        "A for scores >= 90\n",
        "\n",
        "B for scores >= 80 and < 90\n",
        "\n",
        "C for scores >= 70 and < 80\n",
        "\n",
        "D for scores >= 60 and < 70\n",
        "\n",
        "F for scores < 60\n",
        "\n",
        "**Output Summary**:\n",
        "\n",
        "Use a loop to display a summary of all students, including:\n",
        "\n",
        "Name\n",
        "\n",
        "ID\n",
        "\n",
        "Final Score\n",
        "\n",
        "Grade\n",
        "\n",
        "**Bonus Challenge**:\n",
        "\n",
        "Add a function to find the top student (the one with the highest final score)."
      ]
    },
    {
      "cell_type": "code",
      "execution_count": null,
      "metadata": {
        "id": "21AvMKc4iKUw"
      },
      "outputs": [],
      "source": []
    },
    {
      "cell_type": "markdown",
      "metadata": {
        "id": "EMkF7300iKoa"
      },
      "source": [
        "**Bonus 2**: You need to design a Library Management System for a small library. The system should perform the following tasks:\n",
        "\n",
        "**Add New Books**:\n",
        "\n",
        "Create a function that allows the librarian to add new books to the system.\n",
        "Each book should have:\n",
        "\n",
        "Title (string)\n",
        "\n",
        "Author (string)\n",
        "\n",
        "ISBN (string)\n",
        "\n",
        "Total Copies (integer)\n",
        "\n",
        "**Borrow a Book**:\n",
        "\n",
        "Create a function that allows a user to borrow a book by its ISBN.\n",
        "If the book is not available or all copies are borrowed, display an appropriate message.\n",
        "Keep track of borrowed books using a dictionary with:\n",
        "\n",
        "Key: ISBN\n",
        "\n",
        "Value: Number of borrowed copies.\n",
        "\n",
        "**Return a Book**:\n",
        "\n",
        "Create a function that allows a user to return a borrowed book.\n",
        "Ensure the system updates the borrowed books record properly.\n",
        "\n",
        "**Display Available Books**:\n",
        "\n",
        "Create a function that displays all available books along with their title, author, ISBN, and the number of copies currently available.\n",
        "\n",
        "**Search for a Book**:\n",
        "\n",
        "Create a function that searches for books by:\n",
        "Title\n",
        "\n",
        "Author\n",
        "\n",
        "Return all matching results.\n",
        "\n",
        "**Bonus Challenge** :\n",
        "\n",
        "Add a feature to track which user borrowed which book. For example:\n",
        "Create a users dictionary where:\n",
        "\n",
        "Key: User ID\n",
        "\n",
        "Value: List of borrowed book ISBNs."
      ]
    },
    {
      "cell_type": "code",
      "execution_count": null,
      "metadata": {
        "id": "ZqMQ6faGjhJt"
      },
      "outputs": [],
      "source": []
    }
  ],
  "metadata": {
    "colab": {
      "provenance": []
    },
    "kernelspec": {
      "display_name": "Python 3",
      "name": "python3"
    },
    "language_info": {
      "codemirror_mode": {
        "name": "ipython",
        "version": 3
      },
      "file_extension": ".py",
      "mimetype": "text/x-python",
      "name": "python",
      "nbconvert_exporter": "python",
      "pygments_lexer": "ipython3",
      "version": "3.13.2"
    }
  },
  "nbformat": 4,
  "nbformat_minor": 0
}
